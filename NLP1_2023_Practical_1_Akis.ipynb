{
  "cells": [
    {
      "cell_type": "markdown",
      "metadata": {
        "id": "rdekQpkfVnCM"
      },
      "source": [
        "<a href=\"https://colab.research.google.com/github/antragoudaras/NLP_1/blob/main/NLP1_2023_Practical_1_Tony.ipynb\">\n",
        "<img src=\"https://colab.research.google.com/assets/colab-badge.svg\" alt=\"Open In Colab\" style=\"display: block; margin-left: auto; margin-right: auto; width: 200px;\"/></a>"
      ]
    },
    {
      "cell_type": "markdown",
      "metadata": {
        "id": "1-aRiOgl4nHg"
      },
      "source": [
        "------\n",
        "**You cannot save any changes you make to this file, so please make sure to save it on your Google Colab drive or download it as a .ipynb file.**\n",
        "\n",
        "------\n",
        "\n"
      ]
    },
    {
      "cell_type": "markdown",
      "metadata": {
        "id": "lIZrAUx57vsM"
      },
      "source": [
        "Practical 1: Sentiment Detection in Movie Reviews\n",
        "========================================\n",
        "\n"
      ]
    },
    {
      "cell_type": "markdown",
      "metadata": {
        "id": "J4kXPMhyngZW"
      },
      "source": [
        "This practical concerns detecting sentiment in movie reviews. This is a typical NLP classification task.\n",
        "In [this file](https://gist.githubusercontent.com/bastings/d47423301cca214e3930061a5a75e177/raw/5113687382919e22b1f09ce71a8fecd1687a5760/reviews.json) (80MB) you will find 1000 positive and 1000 negative **movie reviews**.\n",
        "Each review is a **document** and consists of one or more sentences.\n",
        "\n",
        "To prepare yourself for this practical, you should\n",
        "have a look at a few of these texts to understand the difficulties of\n",
        "the task: how might one go about classifying the texts? You will write\n",
        "code that decides whether a movie review conveys positive or\n",
        "negative sentiment.\n",
        "\n",
        "Please make sure you have read the following paper:\n",
        "\n",
        ">   Bo Pang, Lillian Lee, and Shivakumar Vaithyanathan\n",
        "(2002).\n",
        "[Thumbs up? Sentiment Classification using Machine Learning\n",
        "Techniques](https://dl.acm.org/citation.cfm?id=1118704). EMNLP.\n",
        "\n",
        "Bo Pang et al. introduced the movie review sentiment\n",
        "classification task, and the above paper was one of the first papers on\n",
        "the topic. The first version of your sentiment classifier will do\n",
        "something similar to Pang et al.'s system. If you have questions about it,\n",
        "you should resolve you doubts as soon as possible with your TA.\n"
      ]
    },
    {
      "cell_type": "markdown",
      "metadata": {
        "id": "cb7errgRASzZ"
      },
      "source": [
        "**Advice**\n",
        "\n",
        "Please read through the entire practical and familiarise\n",
        "yourself with all requirements before you start coding or otherwise\n",
        "solving the tasks. Writing clean and concise code can make the difference\n",
        "between solving the assignment in a matter of hours, and taking days to\n",
        "run all experiments.\n",
        "\n",
        "\n",
        "**Implementation**\n",
        "\n",
        "While we inserted code cells to indicate where you should implement your own code, please feel free to add/remove code blocks where you see fit (but make sure that the general structure of the assignment is preserved). Also, please keep in mind that it is always good practice to structure your code properly, e.g., by implementing separate classes and functions that can be reused.\n",
        "\n",
        "## Environment\n",
        "\n",
        "All code should be written in **Python 3**.\n",
        "This is the default in Google Colab."
      ]
    },
    {
      "cell_type": "code",
      "execution_count": 1,
      "metadata": {
        "colab": {
          "base_uri": "https://localhost:8080/"
        },
        "id": "SaZnxptMJiD7",
        "outputId": "a19903a9-df10-4cf1-c872-1062ff82307f"
      },
      "outputs": [
        {
          "output_type": "stream",
          "name": "stdout",
          "text": [
            "Python 3.10.12\n"
          ]
        }
      ],
      "source": [
        "!python --version"
      ]
    },
    {
      "cell_type": "markdown",
      "metadata": {
        "id": "BYZyIF7lJnGn"
      },
      "source": [
        "If you want to run code on your own computer, then download this notebook through `File -> Download .ipynb`.\n",
        "The easiest way to\n",
        "install Python is through downloading\n",
        "[Anaconda](https://www.anaconda.com/download).\n",
        "After installation, you can start the notebook by typing `jupyter notebook filename.ipynb`.\n",
        "You can also use an IDE\n",
        "such as [PyCharm](https://www.jetbrains.com/pycharm/download/) to make\n",
        "coding and debugging easier. It is good practice to create a [virtual\n",
        "environment](https://docs.python.org/3/tutorial/venv.html) for this\n",
        "project, so that any Python packages don’t interfere with other\n",
        "projects.\n",
        "\n",
        "\n",
        "**Learning Python 3**\n",
        "\n",
        "If you are new to Python 3, you may want to check out a few of these resources:\n",
        "- https://learnxinyminutes.com/docs/python3/\n",
        "- https://www.learnpython.org/\n",
        "- https://docs.python.org/3/tutorial/"
      ]
    },
    {
      "cell_type": "code",
      "execution_count": 2,
      "metadata": {
        "id": "hok-BFu9lGoK"
      },
      "outputs": [],
      "source": [
        "import math\n",
        "import os\n",
        "import sys\n",
        "from subprocess import call\n",
        "from nltk import FreqDist\n",
        "from nltk.util import ngrams\n",
        "from nltk.stem.porter import PorterStemmer\n",
        "import sklearn as sk\n",
        "# from google.colab import drive\n",
        "import pickle\n",
        "import json\n",
        "from collections import Counter\n",
        "import requests\n",
        "import matplotlib.pyplot as plt\n",
        "import numpy as np"
      ]
    },
    {
      "cell_type": "markdown",
      "metadata": {
        "id": "bXWyGHwE-ieQ"
      },
      "source": [
        "## Loading the data\n",
        "\n",
        "**Download the sentiment lexicon and the movie reviews dataset.**"
      ]
    },
    {
      "cell_type": "code",
      "execution_count": 3,
      "metadata": {
        "colab": {
          "base_uri": "https://localhost:8080/"
        },
        "id": "lm-rakqtlMOT",
        "outputId": "c668f969-8361-4795-ce14-9b07e73feb5e"
      },
      "outputs": [
        {
          "output_type": "stream",
          "name": "stdout",
          "text": [
            "--2023-11-08 12:26:52--  https://gist.githubusercontent.com/bastings/d6f99dcb6c82231b94b013031356ba05/raw/f80a0281eba8621b122012c89c8b5e2200b39fd6/sent_lexicon\n",
            "Resolving gist.githubusercontent.com (gist.githubusercontent.com)... 185.199.111.133, 185.199.110.133, 185.199.109.133, ...\n",
            "Connecting to gist.githubusercontent.com (gist.githubusercontent.com)|185.199.111.133|:443... connected.\n",
            "HTTP request sent, awaiting response... 200 OK\n",
            "Length: 662577 (647K) [text/plain]\n",
            "Saving to: ‘sent_lexicon’\n",
            "\n",
            "\rsent_lexicon          0%[                    ]       0  --.-KB/s               \rsent_lexicon        100%[===================>] 647.05K  --.-KB/s    in 0.04s   \n",
            "\n",
            "2023-11-08 12:26:52 (17.3 MB/s) - ‘sent_lexicon’ saved [662577/662577]\n",
            "\n",
            "--2023-11-08 12:26:52--  https://gist.githubusercontent.com/bastings/d47423301cca214e3930061a5a75e177/raw/5113687382919e22b1f09ce71a8fecd1687a5760/reviews.json\n",
            "Resolving gist.githubusercontent.com (gist.githubusercontent.com)... 185.199.111.133, 185.199.110.133, 185.199.109.133, ...\n",
            "Connecting to gist.githubusercontent.com (gist.githubusercontent.com)|185.199.111.133|:443... connected.\n",
            "HTTP request sent, awaiting response... 200 OK\n",
            "Length: 83503869 (80M) [text/plain]\n",
            "Saving to: ‘reviews.json’\n",
            "\n",
            "reviews.json        100%[===================>]  79.63M   294MB/s    in 0.3s    \n",
            "\n",
            "2023-11-08 12:26:52 (294 MB/s) - ‘reviews.json’ saved [83503869/83503869]\n",
            "\n"
          ]
        }
      ],
      "source": [
        "# download sentiment lexicon\n",
        "!wget https://gist.githubusercontent.com/bastings/d6f99dcb6c82231b94b013031356ba05/raw/f80a0281eba8621b122012c89c8b5e2200b39fd6/sent_lexicon\n",
        "# download review data\n",
        "!wget https://gist.githubusercontent.com/bastings/d47423301cca214e3930061a5a75e177/raw/5113687382919e22b1f09ce71a8fecd1687a5760/reviews.json"
      ]
    },
    {
      "cell_type": "markdown",
      "metadata": {
        "id": "AkPwuHp5LSuQ"
      },
      "source": [
        "**Load the movie reviews.**\n",
        "\n",
        "Each word in a review comes with its part-of-speech tag. For documentation on POS-tags, see https://catalog.ldc.upenn.edu/docs/LDC99T42/tagguid1.pdf.\n"
      ]
    },
    {
      "cell_type": "code",
      "execution_count": 5,
      "metadata": {
        "colab": {
          "base_uri": "https://localhost:8080/"
        },
        "id": "careEKj-mRpl",
        "outputId": "8a744f3f-af5c-4476-a536-b5c8dcdf8917"
      },
      "outputs": [
        {
          "output_type": "stream",
          "name": "stdout",
          "text": [
            "Total number of reviews: 2000 \n",
            "\n",
            "0 NEG 29\n",
            "Two/CD teen/JJ couples/NNS go/VBP to/TO a/DT church/NN party/NN ,/, drink/NN and/CC then/RB drive/NN ./.\n",
            "1 NEG 11\n",
            "Damn/JJ that/IN Y2K/CD bug/NN ./.\n",
            "2 NEG 24\n",
            "It/PRP is/VBZ movies/NNS like/IN these/DT that/WDT make/VBP a/DT jaded/JJ movie/NN viewer/NN thankful/JJ for/IN the/DT invention/NN of/IN the/DT Timex/NNP IndiGlo/NNP watch/NN ./.\n",
            "3 NEG 19\n",
            "QUEST/NN FOR/IN CAMELOT/NNP ``/`` Quest/NNP for/IN Camelot/NNP ''/'' is/VBZ Warner/NNP Bros./NNP '/POS first/JJ feature-length/JJ ,/, fully-animated/JJ attempt/NN to/TO steal/VB clout/NN from/IN Disney/NNP 's/POS cartoon/NN empire/NN ,/, but/CC the/DT mouse/NN has/VBZ no/DT reason/NN to/TO be/VB worried/VBN ./.\n",
            "4 NEG 38\n",
            "Synopsis/NNPS :/: A/DT mentally/RB unstable/JJ man/NN undergoing/VBG psychotherapy/NN saves/VBZ a/DT boy/NN from/IN a/DT potentially/RB fatal/JJ accident/NN and/CC then/RB falls/VBZ in/IN love/NN with/IN the/DT boy/NN 's/POS mother/NN ,/, a/DT fledgling/NN restauranteur/NN ./.\n",
            "\n",
            "Number of word types: 47743\n",
            "Number of word tokens: 1512359\n",
            "\n",
            "Most common tokens:\n",
            "         , :    77842\n",
            "       the :    75948\n",
            "         . :    59027\n",
            "         a :    37583\n",
            "       and :    35235\n",
            "        of :    33864\n",
            "        to :    31601\n",
            "        is :    25972\n",
            "        in :    21563\n",
            "        's :    18043\n",
            "        it :    15904\n",
            "      that :    15820\n",
            "     -rrb- :    11768\n",
            "     -lrb- :    11670\n",
            "        as :    11312\n",
            "      with :    10739\n",
            "       for :     9816\n",
            "       his :     9542\n",
            "      this :     9497\n",
            "      film :     9404\n"
          ]
        }
      ],
      "source": [
        "# file structure:\n",
        "# [\n",
        "#  {\"cv\": integer, \"sentiment\": str, \"content\": list}\n",
        "#  {\"cv\": integer, \"sentiment\": str, \"content\": list}\n",
        "#   ..\n",
        "# ]\n",
        "# where `content` is a list of sentences,\n",
        "# with a sentence being a list of (token, pos_tag) pairs.\n",
        "\n",
        "\n",
        "with open(\"reviews.json\", mode=\"r\", encoding=\"utf-8\") as f:\n",
        "  reviews = json.load(f)\n",
        "\n",
        "print(\"Total number of reviews:\", len(reviews), '\\n')\n",
        "\n",
        "def print_sentence_with_pos(s):\n",
        "  print(\" \".join(\"%s/%s\" % (token, pos_tag) for token, pos_tag in s))\n",
        "\n",
        "for i, r in enumerate(reviews):\n",
        "  print(r[\"cv\"], r[\"sentiment\"], len(r[\"content\"]))  # cv, sentiment, num sents\n",
        "  print_sentence_with_pos(r[\"content\"][0])\n",
        "  if i == 4:\n",
        "    break\n",
        "\n",
        "c = Counter()\n",
        "for review in reviews:\n",
        "  for sentence in review[\"content\"]:\n",
        "    for token, pos_tag in sentence:\n",
        "      c[token.lower()] += 1\n",
        "\n",
        "print(\"\\nNumber of word types:\", len(c))\n",
        "print(\"Number of word tokens:\", sum(c.values()))\n",
        "\n",
        "print(\"\\nMost common tokens:\")\n",
        "for token, count in c.most_common(20):\n",
        "  print(\"%10s : %8d\" % (token, count))\n"
      ]
    },
    {
      "cell_type": "markdown",
      "metadata": {
        "id": "E6PWaEoh8B34"
      },
      "source": [
        "#(1) Lexicon-based approach (3.5pts)\n",
        "\n"
      ]
    },
    {
      "cell_type": "markdown",
      "metadata": {
        "id": "JsTSMb6ma4E8"
      },
      "source": [
        "A traditional approach to classify documents according to their sentiment is the lexicon-based approach. To implement this approach, you need a **sentiment lexicon**, i.e., a list of words annotated with a sentiment label (e.g., positive and negative, or a score from 0 to 5).\n",
        "\n",
        "In this practical, you will use the sentiment\n",
        "lexicon released by Wilson et al. (2005).\n",
        "\n",
        "> Theresa Wilson, Janyce Wiebe, and Paul Hoffmann\n",
        "(2005). [Recognizing Contextual Polarity in Phrase-Level Sentiment\n",
        "Analysis](http://www.aclweb.org/anthology/H/H05/H05-1044.pdf). HLT-EMNLP.\n",
        "\n",
        "Pay attention to all the information available in the sentiment lexicon. The field *word1* contains the lemma, *priorpolarity* contains the sentiment label (positive, negative, both, or neutral), *type* gives you the magnitude of the word's sentiment (strong or weak), and *pos1* gives you the part-of-speech tag of the lemma. Some lemmas can have multiple part-of-speech tags and thus multiple entries in the lexicon. The path of the lexicon file is `\"sent_lexicon\"`.\n"
      ]
    },
    {
      "cell_type": "code",
      "execution_count": null,
      "metadata": {
        "colab": {
          "base_uri": "https://localhost:8080/"
        },
        "id": "Ogq0Eq2hQglh",
        "outputId": "1c26526d-399e-4558-a1b2-2fa771648f09"
      },
      "outputs": [
        {
          "name": "stdout",
          "output_type": "stream",
          "text": [
            "type=weaksubj len=1 word1=abandoned pos1=adj stemmed1=n priorpolarity=negative\n",
            "type=weaksubj len=1 word1=abandonment pos1=noun stemmed1=n priorpolarity=negative\n",
            "type=weaksubj len=1 word1=abandon pos1=verb stemmed1=y priorpolarity=negative\n",
            "type=strongsubj len=1 word1=abase pos1=verb stemmed1=y priorpolarity=negative\n",
            "type=strongsubj len=1 word1=abasement pos1=anypos stemmed1=y priorpolarity=negative\n"
          ]
        }
      ],
      "source": [
        "with open(\"sent_lexicon\", mode=\"r\", encoding=\"utf-8\") as f:\n",
        "  line_cnt = 0\n",
        "  for line in f:\n",
        "    print(line.strip())\n",
        "    line_cnt += 1\n",
        "    if line_cnt > 4:\n",
        "      break"
      ]
    },
    {
      "cell_type": "markdown",
      "metadata": {
        "id": "Mml4nOtIUBhn"
      },
      "source": [
        "Lexica such as this can be used to solve\n",
        "the classification task without using Machine Learning. For example, one might look up every word $w_1 ... w_n$ in a document, and compute a **binary score**\n",
        "$S_{binary}$ by counting how many words have a positive or a\n",
        "negative label in the sentiment lexicon $SLex$.\n",
        "\n",
        "$$S_{binary}(w_1 w_2 ... w_n) = \\sum_{i = 1}^{n}\\text{sign}(SLex\\big[w_i\\big])$$\n",
        "\n",
        "where $\\text{sign}(SLex\\big[w_i\\big])$ refers to the polarity of $w_i$.\n",
        "\n",
        "**Threshold.** On average, there are more positive than negative words per review (~7.13 more positive than negative per review) to take this bias into account you should use a threshold of **8** (roughly the bias itself) to make it harder to classify as positive.\n",
        "\n",
        "$$\n",
        "\\text{classify}(S_{binary}(w_1 w_2 ... w_n)) = \\bigg\\{\\begin{array}{ll}\n",
        "        \\text{positive} & \\text{if } S_{binary}(w_1w_2...w_n) > threshold\\\\\n",
        "        \\text{negative} & \\text{otherwise}\n",
        "        \\end{array}\n",
        "$$\n"
      ]
    },
    {
      "cell_type": "markdown",
      "metadata": {
        "id": "tOFnMvbeeZrc"
      },
      "source": [
        "#### (Q1.1) Implement this approach and report its classification accuracy. (1 pt)"
      ]
    },
    {
      "cell_type": "code",
      "execution_count": null,
      "metadata": {
        "id": "ED2aTEYutW1-"
      },
      "outputs": [],
      "source": [
        "def load_sent_lexicon(filename):\n",
        "  lexicon = {}\n",
        "  with open(filename, mode=\"r\", encoding=\"utf-8\") as f:\n",
        "    for line in f:\n",
        "      line_dict = {}\n",
        "      tokens = line.strip().split()\n",
        "      line_dict[tokens[-1].split('=')[0]] = tokens[-1].split('=')[1] #take 'pripolarity' token, pripolarity=['positive', 'negative' , 'neutral', 'both']\n",
        "      line_dict[tokens[0].split('=')[0]] = tokens[0].split('=')[1] #take 'type' token\n",
        "      lexicon[tokens[2].split('=')[1]] = line_dict\n",
        "  return lexicon\n",
        "\n",
        "def return_sign(token_lex_dict):\n",
        "    if token_lex_dict[\"priorpolarity\"] == \"positive\":\n",
        "        return 1\n",
        "    elif token_lex_dict[\"priorpolarity\"] == \"negative\":\n",
        "        return -1\n",
        "    else: #neutral or both\n",
        "        return 0\n",
        "\n",
        "def tokenized_results(reviews, lex_dict, threshold=8):\n",
        "    predictions = []\n",
        "    for review in reviews:\n",
        "        tokenized_results = []\n",
        "        for sentence in review[\"content\"]:\n",
        "            for token, _ in sentence:\n",
        "                if token.lower() in lex_dict:\n",
        "                    tokenized_results.append(return_sign(lex_dict[token.lower()]))\n",
        "        if np.sum(tokenized_results) > threshold:\n",
        "            predictions.append(1)\n",
        "        else:\n",
        "            predictions.append(0)\n",
        "\n",
        "    return predictions\n",
        "\n",
        "def return_true_labels(reviews):\n",
        "  return[1 if (review[\"sentiment\"] == 'POS') else  0 for review in reviews]"
      ]
    },
    {
      "cell_type": "code",
      "execution_count": null,
      "metadata": {
        "id": "IGxG7tuIVnCU"
      },
      "outputs": [],
      "source": [
        "Lex_dict = load_sent_lexicon(\"sent_lexicon\")\n",
        "true_labels = return_true_labels(reviews)"
      ]
    },
    {
      "cell_type": "code",
      "execution_count": null,
      "metadata": {
        "colab": {
          "base_uri": "https://localhost:8080/",
          "height": 141
        },
        "id": "iy528EUTphz5",
        "outputId": "c2655d6d-32d3-43ea-be5f-a6e1e4e88ba4"
      },
      "outputs": [
        {
          "name": "stdout",
          "output_type": "stream",
          "text": [
            "Accuracy: 0.677\n"
          ]
        }
      ],
      "source": [
        "# token_results should be a list of binary indicators; for example [1, 0, 1, ...]\n",
        "# where 1 indicates a correct classification and 0 an incorrect classification.\n",
        "token_results = tokenized_results(reviews, Lex_dict, threshold=8)\n",
        "token_accuracy = sum([1 for i in range(len(token_results)) if token_results[i] == true_labels[i]]) / len(token_results)\n",
        "print(\"Accuracy: %0.3f\" % token_accuracy)"
      ]
    },
    {
      "cell_type": "markdown",
      "metadata": {
        "id": "Twox0s_3eS0V"
      },
      "source": [
        "As the sentiment lexicon also has information about the **magnitude** of\n",
        "sentiment (e.g., *“excellent\"* has the same sentiment _polarity_ as *“good\"* but it has a higher magnitude), we can take a more fine-grained approach by adding up all\n",
        "sentiment scores, and deciding the polarity of the movie review using\n",
        "the sign of the weighted score $S_{weighted}$.\n",
        "\n",
        "$$S_{weighted}(w_1w_2...w_n) = \\sum_{i = 1}^{n}SLex\\big[w_i\\big]$$\n",
        "\n",
        "\n",
        "Make sure you define an appropriate threshold for this approach.\n",
        "\n",
        "#### (Q1.2) Now incorporate magnitude information and report the classification accuracy. Don't forget to use the threshold. (1pt)"
      ]
    },
    {
      "cell_type": "code",
      "execution_count": null,
      "metadata": {
        "id": "qG3hUDnPtkhS"
      },
      "outputs": [],
      "source": [
        "def return_sign_magnitude(token_lex_dict, magnitude):\n",
        "    if token_lex_dict[\"priorpolarity\"] == \"positive\":\n",
        "        if token_lex_dict['type'] == \"weaksubj\":\n",
        "            return 1\n",
        "        else:\n",
        "           return 1*magnitude\n",
        "    elif token_lex_dict[\"priorpolarity\"] == \"negative\":\n",
        "        if token_lex_dict['type'] == \"weaksubj\":\n",
        "            return -1\n",
        "        else:\n",
        "           return -1*magnitude\n",
        "    else: #neutral or both\n",
        "        return 0\n",
        "\n",
        "def tokenized_results_magnitude(reviews, lex_dict, threshold=8, magnitude=1.5):\n",
        "    predictions = []\n",
        "    for review in reviews:\n",
        "        tokenized_results = []\n",
        "        for sentence in review[\"content\"]:\n",
        "            for token, _ in sentence:\n",
        "                if token.lower() in lex_dict:\n",
        "                    tokenized_results.append(return_sign_magnitude(lex_dict[token.lower()], magnitude))\n",
        "        if sum(tokenized_results) > threshold:\n",
        "            predictions.append(1)\n",
        "        else:\n",
        "            predictions.append(0)\n",
        "\n",
        "    return predictions"
      ]
    },
    {
      "cell_type": "code",
      "execution_count": null,
      "metadata": {
        "colab": {
          "base_uri": "https://localhost:8080/",
          "height": 141
        },
        "id": "9vVk7CvDpyka",
        "outputId": "fb9a09d2-b878-416f-d72c-1c651099c9ed"
      },
      "outputs": [
        {
          "name": "stdout",
          "output_type": "stream",
          "text": [
            "Accuracy: 0.687\n"
          ]
        }
      ],
      "source": [
        "token_results = tokenized_results_magnitude(reviews, Lex_dict, threshold=16, magnitude=2)\n",
        "magnitude_accuracy = sum([1 for i in range(len(token_results)) if token_results[i] == true_labels[i]]) / len(token_results)\n",
        "print(\"Accuracy: %0.3f\" % magnitude_accuracy)"
      ]
    },
    {
      "cell_type": "markdown",
      "metadata": {
        "id": "h9SHoGPfsAHV"
      },
      "source": [
        "#### (Q.1.3) Make a barplot of the two results (0.5pt)"
      ]
    },
    {
      "cell_type": "code",
      "execution_count": null,
      "metadata": {
        "id": "8LgBcYcXsEk3"
      },
      "outputs": [],
      "source": [
        "# YOUR CODE HERE"
      ]
    },
    {
      "cell_type": "markdown",
      "metadata": {
        "id": "sNhS8OCVxMHd"
      },
      "source": [
        "#### (Q1.4) A better threshold (1pt)\n",
        "Above we have defined a threshold to account for an inherent bias in the dataset: there are more positive than negative words per review.\n",
        "However, that threshold does not take into account *document length*. Explain why this is a problem and implement an alternative way to compute the threshold."
      ]
    },
    {
      "cell_type": "markdown",
      "metadata": {
        "id": "xo7gk1I-omLI"
      },
      "source": [
        "*Write your answer here.*"
      ]
    },
    {
      "cell_type": "code",
      "execution_count": null,
      "metadata": {
        "id": "4WCT27_5VnCV"
      },
      "outputs": [],
      "source": [
        "def calc_avg_words_per_review(reviews):\n",
        "  total_words = sum(len(sentence) for review in reviews for sentence in review[\"content\"])\n",
        "  avg_words_per_review = int(total_words / len(reviews))\n",
        "  return avg_words_per_review\n",
        "\n",
        "def tokenized_results_magnitude_dynamic_threshold(reviews, lex_dict, original_threshold=8, magnitude=1.5):\n",
        "\n",
        "    avg_words_per_review = calc_avg_words_per_review(reviews)\n",
        "\n",
        "    predictions = []\n",
        "    for review in reviews:\n",
        "        tokenized_results = []\n",
        "        words_per_review = 0\n",
        "        for sentence in review[\"content\"]:\n",
        "            for token, _ in sentence:\n",
        "                words_per_review += 1\n",
        "                if token.lower() in lex_dict:\n",
        "                    tokenized_results.append(return_sign_magnitude(lex_dict[token.lower()], magnitude))\n",
        "\n",
        "        normalized_threshold = original_threshold * (words_per_review / avg_words_per_review)\n",
        "        if sum(tokenized_results) > normalized_threshold:\n",
        "            predictions.append(1)\n",
        "        else:\n",
        "            predictions.append(0)\n",
        "\n",
        "    return predictions"
      ]
    },
    {
      "cell_type": "code",
      "execution_count": null,
      "metadata": {
        "id": "Dwt0B8h8aKjr",
        "outputId": "a9b24d6c-049f-4dd5-f8b1-ebba69b60384"
      },
      "outputs": [
        {
          "name": "stdout",
          "output_type": "stream",
          "text": [
            "Accuracy: 0.692\n"
          ]
        }
      ],
      "source": [
        "dynamic_token_results = tokenized_results_magnitude_dynamic_threshold(reviews, Lex_dict, original_threshold=16, magnitude=2)\n",
        "dynamic_accuracy = sum([1 for i in range(len(dynamic_token_results)) if dynamic_token_results[i] == true_labels[i]]) / len(dynamic_token_results)\n",
        "print(\"Accuracy: %0.3f\" % dynamic_accuracy)"
      ]
    },
    {
      "cell_type": "markdown",
      "metadata": {
        "id": "LibV4nR89BXb"
      },
      "source": [
        "# (2) Naive Bayes (9.5pts)"
      ]
    },
    {
      "cell_type": "markdown",
      "metadata": {
        "id": "fnF9adQnuwia"
      },
      "source": [
        "\n",
        "Your second task is to program a simple Machine Learning approach that operates\n",
        "on a simple Bag-of-Words (BoW) representation of the text data, as\n",
        "described by Pang et al. (2002). In this approach, the only features we\n",
        "will consider are the words in the text themselves, without bringing in\n",
        "external sources of information. The BoW model is a popular way of\n",
        "representing texts as vectors, making it\n",
        "easy to apply classical Machine Learning algorithms on NLP tasks.\n",
        "However, the BoW representation is also very crude, since it discards\n",
        "all information related to word order and grammatical structure in the\n",
        "original text—as the name suggests.\n",
        "\n",
        "## Writing your own classifier (4pts)\n",
        "\n",
        "Write your own code to implement the Naive Bayes (NB) classifier. As\n",
        "a reminder, the Naive Bayes classifier works according to the following\n",
        "equation:\n",
        "$$\\hat{c} = \\operatorname*{arg\\,max}_{c \\in C} P(c|\\bar{f}) = \\operatorname*{arg\\,max}_{c \\in C} P(c)\\prod^n_{i=1} P(f_i|c)$$\n",
        "where $C = \\{ \\text{POS}, \\text{NEG} \\}$ is the set of possible classes,\n",
        "$\\hat{c} \\in C$ is the most probable class, and $\\bar{f}$ is the feature\n",
        "vector. Remember that we use the log of these probabilities when making\n",
        "a prediction:\n",
        "$$\\hat{c} = \\operatorname*{arg\\,max}_{c \\in C} \\Big\\{\\log P(c) + \\sum^n_{i=1} \\log P(f_i|c)\\Big\\}$$\n",
        "\n",
        "You can find more details about Naive Bayes in [Jurafsky &\n",
        "Martin](https://web.stanford.edu/~jurafsky/slp3/). You can also look at\n",
        "this helpful\n",
        "[pseudo-code](https://nlp.stanford.edu/IR-book/html/htmledition/naive-bayes-text-classification-1.html).\n",
        "\n",
        "*Note: this section and the next aim to put you in a position to replicate\n",
        "    Pang et al.'s Naive Bayes results. However, your numerical results\n",
        "    will differ from theirs, as they used different data.*\n",
        "\n",
        "**You must write the Naive Bayes training and prediction code from\n",
        "scratch.** You will not be given credit for using off-the-shelf Machine\n",
        "Learning libraries.\n",
        "\n",
        "The data contains the text of the reviews, where each document consists\n",
        "of the sentences in the review, the sentiment of the review and an index\n",
        "(cv) that you will later use for cross-validation. The\n",
        "text has already been tokenised and POS-tagged for you. Your algorithm\n",
        "should read in the text, **lowercase it**, store the words and their\n",
        "frequencies in an appropriate data structure that allows for easy\n",
        "computation of the probabilities used in the Naive Bayes algorithm, and\n",
        "then make predictions for new instances.\n"
      ]
    },
    {
      "cell_type": "markdown",
      "metadata": {
        "id": "vEpyQSBSkb33"
      },
      "source": [
        "#### (Q2.1) Unseen words (1pt)\n",
        "The presence of words in the test dataset that\n",
        "have not been seen during training can cause probabilities in the Naive Bayes classifier to equal $0$.\n",
        "These can be words which are unseen in both positive and negative training reviews (case 1), but also words which are seen in reviews _of only one sentiment class_ in the training dataset (case 2). In both cases, **you should skip these words for both classes at test time**.  What would be the problem instead with skipping words only for one class in case 2?"
      ]
    },
    {
      "cell_type": "markdown",
      "metadata": {
        "id": "BanFiYYnoxDW"
      },
      "source": [
        "*Write your answer here.*"
      ]
    },
    {
      "cell_type": "markdown",
      "metadata": {
        "id": "gsZRhaI3WvzC"
      },
      "source": [
        "#### (Q2.2) Train your classifier on (positive and negative) reviews with cv-value 000-899, and test it on the remaining (positive and negative) reviews cv900–cv999.  Report results using classification accuracy as your evaluation metric. Your  features are the word vocabulary. The value of a feature is the count of that feature (word) in the document. (2pts)\n"
      ]
    },
    {
      "cell_type": "code",
      "execution_count": null,
      "metadata": {
        "id": "G7zaJYGFvIJ3"
      },
      "outputs": [],
      "source": [
        "# YOUR CODE HERE"
      ]
    },
    {
      "cell_type": "markdown",
      "metadata": {
        "id": "0INK-PBoM6CB"
      },
      "source": [
        "#### (Q2.3) Would you consider accuracy to also be a good way to evaluate your classifier in a situation where 90% of your data instances are of positive movie reviews? (1pt)\n",
        "\n",
        "Simulate this scenario by keeping the positive reviews\n",
        "data unchanged, but only using negative reviews cv000–cv089 for\n",
        "training, and cv900–cv909 for testing. Calculate the classification\n",
        "accuracy, and explain what changed."
      ]
    },
    {
      "cell_type": "markdown",
      "metadata": {
        "id": "oFbcsYlipBAw"
      },
      "source": [
        "*Write your answer here.*"
      ]
    },
    {
      "cell_type": "code",
      "execution_count": null,
      "metadata": {
        "id": "GWDkt5ZrrFGp"
      },
      "outputs": [],
      "source": [
        "# YOUR CODE HERE"
      ]
    },
    {
      "cell_type": "markdown",
      "metadata": {
        "id": "6wJzcHX3WUDm"
      },
      "source": [
        "## Smoothing (1pt)\n",
        "\n",
        "As mentioned above, the presence of words in the test dataset that\n",
        "have not been seen during training can cause probabilities in the Naive\n",
        "Bayes classifier to be $0$, thus making that particular test instance\n",
        "undecidable. The standard way to mitigate this effect (as well as to\n",
        "give more clout to rare words) is to use smoothing, in which the\n",
        "probability fraction\n",
        "$$\\frac{\\text{count}(w_i, c)}{\\sum\\limits_{w\\in V} \\text{count}(w, c)}$$ for a word\n",
        "$w_i$ becomes\n",
        "$$\\frac{\\text{count}(w_i, c) + \\text{smoothing}(w_i)}{\\sum\\limits_{w\\in V} \\text{count}(w, c) + \\sum\\limits_{w \\in V} \\text{smoothing}(w)}$$\n",
        "\n",
        "\n",
        "\n"
      ]
    },
    {
      "cell_type": "markdown",
      "metadata": {
        "id": "PBNIcbwUWphC"
      },
      "source": [
        "#### (Q2.4) Implement Laplace feature smoothing (1pt)\n",
        "Implement Laplace smoothing, i.e., smoothing with a constant value ($smoothing(w) = \\kappa, \\forall w \\in V$), in your Naive\n",
        "Bayes classifier’s code, and report the accuracy.\n",
        "Use $\\kappa = 1$."
      ]
    },
    {
      "cell_type": "code",
      "execution_count": null,
      "metadata": {
        "id": "g03yflCc9kpW"
      },
      "outputs": [],
      "source": [
        "# YOUR CODE HERE"
      ]
    },
    {
      "cell_type": "markdown",
      "metadata": {
        "id": "ZiGcgwba87D5"
      },
      "source": [
        "## Cross-Validation (1.5pts)\n",
        "\n",
        "A serious danger in using Machine Learning on small datasets, with many\n",
        "iterations of slightly different versions of the algorithms, is ending up with Type III errors, also called the “testing hypotheses\n",
        "suggested by the data” errors. This type of error occurs when we make\n",
        "repeated improvements to our classifiers by playing with features and\n",
        "their processing, but we don’t get a fresh, never-before seen test\n",
        "dataset every time. Thus, we risk developing a classifier that gets better\n",
        "and better on our data, but only gets worse at generalizing to new, unseen data. In other words, we risk developping a classifier that overfits.\n",
        "\n",
        "A simple method to guard against Type III errors is to use\n",
        "Cross-Validation. In **N-fold Cross-Validation**, we divide the data into N\n",
        "distinct chunks, or folds. Then, we repeat the experiment N times: each\n",
        "time holding out one of the folds for testing, training our classifier\n",
        "on the remaining N - 1 data folds, and reporting performance on the\n",
        "held-out fold. We can use different strategies for dividing the data:\n",
        "\n",
        "-   Consecutive splitting:\n",
        "  - cv000–cv099 = Split 1\n",
        "  - cv100–cv199 = Split 2\n",
        "  - etc.\n",
        "  \n",
        "-   Round-robin splitting (mod 10):\n",
        "  - cv000, cv010, cv020, … = Split 1\n",
        "  - cv001, cv011, cv021, … = Split 2\n",
        "  - etc.\n",
        "\n",
        "-   Random sampling/splitting\n",
        "  - Not used here (but you may choose to split this way in a non-educational situation)\n",
        "\n"
      ]
    },
    {
      "cell_type": "markdown",
      "metadata": {
        "id": "8OeLcbSauGtR"
      },
      "source": [
        "#### (Q2.5) Write the code to implement 10-fold cross-validation using round-robin splitting for your Naive Bayes classifier from Q2.4 and compute the 10 accuracies. Report the final performance, which is the average of the performances per fold. If all splits perform equally well, this is a good sign. (1pt)"
      ]
    },
    {
      "cell_type": "code",
      "execution_count": null,
      "metadata": {
        "id": "3KeCGPa7Nuzx"
      },
      "outputs": [],
      "source": [
        "# YOUR CODE HERE"
      ]
    },
    {
      "cell_type": "markdown",
      "metadata": {
        "id": "otdlsDXBNyOa"
      },
      "source": [
        "#### (Q2.6) Report the variance of the 10 accuracy scores. (0.5pt)\n",
        "\n",
        "**Please report all future results using 10-fold cross-validation now\n",
        "(unless told to use the held-out test set).** Note: you're not allowed to use a library for computing the variance."
      ]
    },
    {
      "cell_type": "code",
      "execution_count": null,
      "metadata": {
        "id": "ZoBQm1KuNzNR"
      },
      "outputs": [],
      "source": [
        "# YOUR CODE HERE"
      ]
    },
    {
      "cell_type": "markdown",
      "metadata": {
        "id": "s6A2zX9_BRKm"
      },
      "source": [
        "## Features, overfitting, and the curse of dimensionality\n",
        "\n",
        "In the Bag-of-Words model, ideally we would like each distinct word in\n",
        "the text to be mapped to its own dimension in the output vector\n",
        "representation. However, real world text is messy, and we need to decide\n",
        "on what we consider to be a word. For example, is “`word`\" different\n",
        "from “`Word`\", from “`word`”, or from “`words`\"? Too strict a\n",
        "definition, and the number of features explodes, while our algorithm\n",
        "fails to learn anything generalisable. Too lax, and we risk destroying\n",
        "our learning signal. In the following section, you will learn about\n",
        "confronting the feature sparsity and the overfitting problems as they\n",
        "occur in NLP classification tasks."
      ]
    },
    {
      "cell_type": "markdown",
      "metadata": {
        "id": "EKK8FNt8VtcZ"
      },
      "source": [
        "### Stemming (1.5pts)\n",
        "\n",
        "To make your algorithm more robust, use stemming and hash different inflections of a word to the same feature in the BoW vector space. Please use the [Porter stemming\n",
        "    algorithm](http://www.nltk.org/howto/stem.html) from NLTK.\n",
        "\n"
      ]
    },
    {
      "cell_type": "code",
      "execution_count": null,
      "metadata": {
        "id": "NxtCul1IrBi_"
      },
      "outputs": [],
      "source": [
        "# YOUR CODE HERE"
      ]
    },
    {
      "cell_type": "markdown",
      "metadata": {
        "id": "6SrJ1BeLXTnk"
      },
      "source": [
        "#### (Q2.7): How does the performance of your classifier change when you use stemming on your training and test datasets? (1pt)\n",
        "Use cross-validation to evaluate the classifier.\n"
      ]
    },
    {
      "cell_type": "code",
      "execution_count": null,
      "metadata": {
        "id": "gYqKBOiIrInT"
      },
      "outputs": [],
      "source": [
        "# YOUR ANSWER HERE"
      ]
    },
    {
      "cell_type": "markdown",
      "metadata": {
        "id": "JkDHVq_1XUVP"
      },
      "source": [
        "#### (Q2.8) What happens to the number of features (i.e., the size of the vocabulary) when using stemming as opposed to (Q2.4)? (0.5pt)\n",
        "Give actual numbers. You can use the held-out training set to determine these."
      ]
    },
    {
      "cell_type": "code",
      "execution_count": null,
      "metadata": {
        "id": "MA3vee5-rJyy"
      },
      "outputs": [],
      "source": [
        "# YOUR CODE HERE"
      ]
    },
    {
      "cell_type": "markdown",
      "metadata": {
        "id": "SoazfxbNV5Lq"
      },
      "source": [
        "### N-grams (1.5pts)\n",
        "\n",
        "A simple way of retaining some of the word\n",
        "order information when using bag-of-words representations is to use **n-gram** features.\n",
        "\n",
        "\n",
        "\n",
        "\n"
      ]
    },
    {
      "cell_type": "markdown",
      "metadata": {
        "id": "OHjy3I7-qWiu"
      },
      "source": [
        "#### (Q2.9) Retrain your classifier from (Q2.4) using **unigrams+bigrams** and **unigrams+bigrams+trigrams** as features. (1pt)\n",
        "Report accuracy and compare it with that of the approaches you have previously implemented. You are allowed to use NLTK to build n-grams from sentences."
      ]
    },
    {
      "cell_type": "code",
      "execution_count": null,
      "metadata": {
        "id": "eYuKMTOpq9jz"
      },
      "outputs": [],
      "source": [
        "# YOUR CODE HERE"
      ]
    },
    {
      "cell_type": "markdown",
      "metadata": {
        "id": "dVrGGArkrWoL"
      },
      "source": [
        "\n",
        "#### Q2.10: How many features does the BoW model have to take into account now? (0.5pt)\n",
        "How would you expect the number of features to increase theoretically (e.g., linear, square, cubed, exponential)? How does this number compare, in practice, to the number of features at (Q2.8)?\n",
        "\n",
        "Use the held-out training set once again for this.\n"
      ]
    },
    {
      "cell_type": "markdown",
      "metadata": {
        "id": "yEGZ9SV8pPaa"
      },
      "source": [
        "*Write your answer here.*"
      ]
    },
    {
      "cell_type": "code",
      "execution_count": null,
      "metadata": {
        "id": "_z8sAJeUrdtM"
      },
      "outputs": [],
      "source": [
        "# YOUR CODE HERE"
      ]
    },
    {
      "cell_type": "markdown",
      "metadata": {
        "id": "CHWKDL3YV6vh"
      },
      "source": [
        "# (3) Support Vector Machines (4pts)"
      ]
    },
    {
      "cell_type": "markdown",
      "metadata": {
        "id": "hJSYhcVaoJGt"
      },
      "source": [
        "Though simple to understand, implement, and debug, one\n",
        "major problem with the Naive Bayes classifier is that its performance\n",
        "deteriorates (becomes skewed) when it is being used with features which\n",
        "are not independent (i.e., are correlated). Another popular classifier\n",
        "that doesn’t scale as well to big data, and is not as simple to debug as\n",
        "Naive Bayes, but that doesn’t assume feature independence is the Support\n",
        "Vector Machine (SVM) classifier.\n",
        "\n",
        "You can find more details about SVMs in Chapter 7 of Bishop: Pattern Recognition and Machine Learning.\n",
        "Other sources for learning SVM:\n",
        "* http://web.mit.edu/zoya/www/SVM.pdf\n",
        "* http://www.cs.columbia.edu/~kathy/cs4701/documents/jason_svm_tutorial.pdf\n",
        "* https://pythonprogramming.net/support-vector-machine-intro-machine-learning-tutorial/\n",
        "\n",
        "\n",
        "\n",
        "\n",
        "\n",
        "\n",
        "\n",
        "Use the scikit-learn implementation of\n",
        "[SVM](http://scikit-learn.org/stable/modules/svm.html) with the default parameters. (You are not expected to perform any hyperparameter tuning, but feel free to do it if you think it gives you good insights for the discussion in question 5.)\n",
        "\n"
      ]
    },
    {
      "cell_type": "markdown",
      "metadata": {
        "id": "0LnzNtQBV8gr"
      },
      "source": [
        "#### (Q3.1): Train SVM and compare to Naive Bayes (2pts)\n",
        "\n",
        "Train an SVM classifier (sklearn.svm.LinearSVC) using the features collected for Naive Bayes. Compare the\n",
        "classification performance of the SVM classifier to that of the Naive\n",
        "Bayes classifier with smoothing.\n",
        "Use cross-validation to evaluate the performance of the classifiers.\n",
        "\n"
      ]
    },
    {
      "cell_type": "code",
      "execution_count": 24,
      "metadata": {
        "id": "JBscui8Mvoz0",
        "colab": {
          "base_uri": "https://localhost:8080/"
        },
        "outputId": "00d70506-8bb1-4d21-ddfa-4ed972db641a"
      },
      "outputs": [
        {
          "output_type": "stream",
          "name": "stdout",
          "text": [
            "Starting k-fold cross validation ......\n",
            "-------------------------------------------------------\n",
            "SVM classification accuracy: 81.0% in fold 0\n",
            "SVM classification P: 80.3921568627451% in fold 0\n",
            "SVM classification R: 82.0% in fold 0\n",
            "SVM classification F1: 81.18811881188118% in fold 0\n",
            "-------------------------------------------------------\n",
            "-------------------------------------------------------\n"
          ]
        },
        {
          "output_type": "stream",
          "name": "stderr",
          "text": [
            "/usr/local/lib/python3.10/dist-packages/sklearn/svm/_base.py:1244: ConvergenceWarning: Liblinear failed to converge, increase the number of iterations.\n",
            "  warnings.warn(\n"
          ]
        },
        {
          "output_type": "stream",
          "name": "stdout",
          "text": [
            "SVM classification accuracy: 79.5% in fold 1\n",
            "SVM classification P: 80.41237113402062% in fold 1\n",
            "SVM classification R: 78.0% in fold 1\n",
            "SVM classification F1: 79.18781725888326% in fold 1\n",
            "-------------------------------------------------------\n",
            "-------------------------------------------------------\n"
          ]
        },
        {
          "output_type": "stream",
          "name": "stderr",
          "text": [
            "/usr/local/lib/python3.10/dist-packages/sklearn/svm/_base.py:1244: ConvergenceWarning: Liblinear failed to converge, increase the number of iterations.\n",
            "  warnings.warn(\n"
          ]
        },
        {
          "output_type": "stream",
          "name": "stdout",
          "text": [
            "SVM classification accuracy: 80.0% in fold 2\n",
            "SVM classification P: 80.0% in fold 2\n",
            "SVM classification R: 80.0% in fold 2\n",
            "SVM classification F1: 80.00000000000001% in fold 2\n",
            "-------------------------------------------------------\n",
            "-------------------------------------------------------\n"
          ]
        },
        {
          "output_type": "stream",
          "name": "stderr",
          "text": [
            "/usr/local/lib/python3.10/dist-packages/sklearn/svm/_base.py:1244: ConvergenceWarning: Liblinear failed to converge, increase the number of iterations.\n",
            "  warnings.warn(\n"
          ]
        },
        {
          "output_type": "stream",
          "name": "stdout",
          "text": [
            "SVM classification accuracy: 84.0% in fold 3\n",
            "SVM classification P: 84.6938775510204% in fold 3\n",
            "SVM classification R: 83.0% in fold 3\n",
            "SVM classification F1: 83.83838383838385% in fold 3\n",
            "-------------------------------------------------------\n",
            "-------------------------------------------------------\n"
          ]
        },
        {
          "output_type": "stream",
          "name": "stderr",
          "text": [
            "/usr/local/lib/python3.10/dist-packages/sklearn/svm/_base.py:1244: ConvergenceWarning: Liblinear failed to converge, increase the number of iterations.\n",
            "  warnings.warn(\n"
          ]
        },
        {
          "output_type": "stream",
          "name": "stdout",
          "text": [
            "SVM classification accuracy: 85.0% in fold 4\n",
            "SVM classification P: 85.0% in fold 4\n",
            "SVM classification R: 85.0% in fold 4\n",
            "SVM classification F1: 85.0% in fold 4\n",
            "-------------------------------------------------------\n",
            "-------------------------------------------------------\n"
          ]
        },
        {
          "output_type": "stream",
          "name": "stderr",
          "text": [
            "/usr/local/lib/python3.10/dist-packages/sklearn/svm/_base.py:1244: ConvergenceWarning: Liblinear failed to converge, increase the number of iterations.\n",
            "  warnings.warn(\n"
          ]
        },
        {
          "output_type": "stream",
          "name": "stdout",
          "text": [
            "SVM classification accuracy: 81.5% in fold 5\n",
            "SVM classification P: 81.81818181818183% in fold 5\n",
            "SVM classification R: 81.0% in fold 5\n",
            "SVM classification F1: 81.4070351758794% in fold 5\n",
            "-------------------------------------------------------\n",
            "-------------------------------------------------------\n"
          ]
        },
        {
          "output_type": "stream",
          "name": "stderr",
          "text": [
            "/usr/local/lib/python3.10/dist-packages/sklearn/svm/_base.py:1244: ConvergenceWarning: Liblinear failed to converge, increase the number of iterations.\n",
            "  warnings.warn(\n"
          ]
        },
        {
          "output_type": "stream",
          "name": "stdout",
          "text": [
            "SVM classification accuracy: 84.5% in fold 6\n",
            "SVM classification P: 84.84848484848484% in fold 6\n",
            "SVM classification R: 84.0% in fold 6\n",
            "SVM classification F1: 84.42211055276383% in fold 6\n",
            "-------------------------------------------------------\n",
            "-------------------------------------------------------\n"
          ]
        },
        {
          "output_type": "stream",
          "name": "stderr",
          "text": [
            "/usr/local/lib/python3.10/dist-packages/sklearn/svm/_base.py:1244: ConvergenceWarning: Liblinear failed to converge, increase the number of iterations.\n",
            "  warnings.warn(\n"
          ]
        },
        {
          "output_type": "stream",
          "name": "stdout",
          "text": [
            "SVM classification accuracy: 85.0% in fold 7\n",
            "SVM classification P: 85.0% in fold 7\n",
            "SVM classification R: 85.0% in fold 7\n",
            "SVM classification F1: 85.0% in fold 7\n",
            "-------------------------------------------------------\n",
            "-------------------------------------------------------\n"
          ]
        },
        {
          "output_type": "stream",
          "name": "stderr",
          "text": [
            "/usr/local/lib/python3.10/dist-packages/sklearn/svm/_base.py:1244: ConvergenceWarning: Liblinear failed to converge, increase the number of iterations.\n",
            "  warnings.warn(\n"
          ]
        },
        {
          "output_type": "stream",
          "name": "stdout",
          "text": [
            "SVM classification accuracy: 87.5% in fold 8\n",
            "SVM classification P: 89.47368421052632% in fold 8\n",
            "SVM classification R: 85.0% in fold 8\n",
            "SVM classification F1: 87.17948717948718% in fold 8\n",
            "-------------------------------------------------------\n",
            "-------------------------------------------------------\n",
            "SVM classification accuracy: 84.0% in fold 9\n",
            "SVM classification P: 85.41666666666666% in fold 9\n",
            "SVM classification R: 82.0% in fold 9\n",
            "SVM classification F1: 83.67346938775509% in fold 9\n",
            "-------------------------------------------------------\n",
            "Recap: Accuracy per fold: [0.81, 0.795, 0.8, 0.84, 0.85, 0.815, 0.845, 0.85, 0.875, 0.84]\n",
            "Recap: P per fold: [0.82, 0.78, 0.8, 0.83, 0.85, 0.81, 0.84, 0.85, 0.85, 0.82]\n",
            "Recap: R per fold: [0.803921568627451, 0.8041237113402062, 0.8, 0.8469387755102041, 0.85, 0.8181818181818182, 0.8484848484848485, 0.85, 0.8947368421052632, 0.8541666666666666]\n",
            "Recap: F1 per fold: [0.8118811881188118, 0.7918781725888325, 0.8000000000000002, 0.8383838383838385, 0.85, 0.8140703517587939, 0.8442211055276383, 0.85, 0.8717948717948718, 0.836734693877551]\n",
            "Average accuracy over 10 folds: 0.8320000000000001%\n",
            "Average P over 10 folds: 0.8370554230916458%\n",
            "Average R over 10 folds: 0.825%\n",
            "Average F1 over 10 folds: 0.8308964222050339%\n"
          ]
        }
      ],
      "source": [
        "def find_measurments(predict_labels,true_labels):\n",
        "    FP,TP,FN,TN=(0,0,0,0)\n",
        "    for predict,true in zip(predict_labels,true_labels):\n",
        "        if predict==\"POS\" and true==\"POS\":\n",
        "            TP+=1\n",
        "        elif predict==\"POS\" and true==\"NEG\":\n",
        "            FP+=1\n",
        "        elif predict==\"NEG\" and true==\"POS\":\n",
        "            FN+=1\n",
        "        elif predict==\"NEG\" and true==\"NEG\":\n",
        "            TN+=1\n",
        "    accuracy= (TP+TN)/(FP+TP+FN+TN)\n",
        "    P=TP/(TP+FP)\n",
        "    R=TP/(TP+FN)\n",
        "    F1 =(2*P*R)/(P+R)\n",
        "    return accuracy,P,R,F1\n",
        "def k_fold_round_robin_split_svm(reviews, k=10):\n",
        "    \"\"\"Splits the reviews into k splits using a round-robin algorithm\"\"\"\n",
        "    splits = [[] for _ in range(k)]\n",
        "    for i, review in enumerate(reviews):\n",
        "        splits[i % k].append(review)\n",
        "    for i in range(k):\n",
        "        test_set = splits[i]\n",
        "        train_set = []\n",
        "        for j in range(k):\n",
        "            if j != i:\n",
        "                train_set += splits[j]\n",
        "        yield train_set, test_set\n",
        "def k_fold_cross_validation_svm(reviews,extract_back_of_words,make_histogram, k):\n",
        "    accuracy_per_fold,P_per_fold,R_per_fold,F1_per_fold = [],[],[],[]\n",
        "    gen = k_fold_round_robin_split_svm(reviews, k=k)\n",
        "    print(\"Starting k-fold cross validation ......\")\n",
        "    for fold in range(k):\n",
        "        print(\"-------------------------------------------------------\")\n",
        "        train_set, test_set = next(gen)\n",
        "        back_of_words=extract_back_of_words([i[\"content\"] for i in train_set])\n",
        "        histogram_train=make_histogram([i[\"content\"] for i in train_set],back_of_words)\n",
        "        clf=sk.svm.LinearSVC()\n",
        "        clf.fit(histogram_train,np.array([i[\"sentiment\"] for i in train_set]).reshape(-1,1).ravel())\n",
        "        histogram_test=make_histogram([i[\"content\"] for i in test_set],back_of_words)\n",
        "        predict_labels=clf.predict(histogram_test)\n",
        "        accuracy,P,R,F1=find_measurments(predict_labels,[i[\"sentiment\"] for i in test_set])\n",
        "        accuracy_per_fold.append(accuracy)\n",
        "        P_per_fold.append(P)\n",
        "        R_per_fold.append(R)\n",
        "        F1_per_fold.append(F1)\n",
        "        print(f\"SVM classification accuracy: {100*accuracy}% in fold {fold}\")\n",
        "        print(f\"SVM classification P: {100*P}% in fold {fold}\")\n",
        "        print(f\"SVM classification R: {100*R}% in fold {fold}\")\n",
        "        print(f\"SVM classification F1: {100*F1}% in fold {fold}\")\n",
        "        print(\"-------------------------------------------------------\")\n",
        "    print(f'Recap: Accuracy per fold: {accuracy_per_fold}')\n",
        "    print(f'Recap: P per fold: {R_per_fold}')\n",
        "    print(f'Recap: R per fold: {P_per_fold}')\n",
        "    print(f'Recap: F1 per fold: {F1_per_fold}')\n",
        "    print(f\"Average accuracy over {k} folds: {np.mean(accuracy_per_fold)}%\")\n",
        "    print(f\"Average P over {k} folds: {np.mean(P_per_fold)}%\")\n",
        "    print(f\"Average R over {k} folds: {np.mean(R_per_fold)}%\")\n",
        "    print(f\"Average F1 over {k} folds: {np.mean(F1_per_fold)}%\")\n",
        "    return accuracy_per_fold,P_per_fold,R_per_fold,F1_per_fold\n",
        "\n",
        "def extract_back_of_words_1st(reviews):\n",
        "    stemmer = PorterStemmer()\n",
        "    words=set()\n",
        "    for i in reviews:\n",
        "        for line in i:\n",
        "            for word,tag in line:\n",
        "                words.add(word.lower())\n",
        "    back_of_words={}\n",
        "    for i,word in enumerate(words):\n",
        "        back_of_words[word]=i\n",
        "    return back_of_words\n",
        "\n",
        "def make_histogram_1st(reviews,back_of_words):\n",
        "    stemmer = PorterStemmer()\n",
        "    histogram=np.zeros((len(reviews),len(back_of_words)))\n",
        "    for index,r in enumerate(reviews):\n",
        "        for line in r:\n",
        "            for word,tag in line:\n",
        "                if word.lower() in back_of_words.keys():\n",
        "                    histogram[index][back_of_words[word.lower()]]+=1\n",
        "    return histogram\n",
        "accuracy_per_fold,P_per_fold,R_per_fold,F1_per_fold = k_fold_cross_validation_svm(reviews,extract_back_of_words_1st,make_histogram_1st, k=10)"
      ]
    },
    {
      "cell_type": "markdown",
      "metadata": {
        "id": "ifXVWcK0V9qY"
      },
      "source": [
        "### POS disambiguation (2pts)\n",
        "\n",
        "Now add in part-of-speech features. You will find the\n",
        "movie review dataset has already been POS-tagged for you ([here](https://catalog.ldc.upenn.edu/docs/LDC99T42/tagguid1.pdf) you find the tagset). Try to\n",
        "replicate the results obtained by Pang et al. (2002).\n",
        "\n"
      ]
    },
    {
      "cell_type": "markdown",
      "metadata": {
        "id": "xA3I82o4oWGu"
      },
      "source": [
        "####(Q3.2) Replace your features with word+POS features, and report performance with the SVM. Use cross-validation to evaluate the classifier and compare the results with (Q3.1). Does part-of-speech information help? Explain why this may be the case. (1pt)\n"
      ]
    },
    {
      "cell_type": "code",
      "execution_count": 25,
      "metadata": {
        "id": "NOvjYe-t2Br6",
        "colab": {
          "base_uri": "https://localhost:8080/"
        },
        "outputId": "1923be69-9394-4352-d894-c6fa75fe6613"
      },
      "outputs": [
        {
          "output_type": "stream",
          "name": "stdout",
          "text": [
            "Starting k-fold cross validation ......\n",
            "-------------------------------------------------------\n",
            "SVM classification accuracy: 82.0% in fold 0\n",
            "SVM classification P: 80.76923076923077% in fold 0\n",
            "SVM classification R: 84.0% in fold 0\n",
            "SVM classification F1: 82.35294117647058% in fold 0\n",
            "-------------------------------------------------------\n",
            "-------------------------------------------------------\n",
            "SVM classification accuracy: 79.5% in fold 1\n",
            "SVM classification P: 79.7979797979798% in fold 1\n",
            "SVM classification R: 79.0% in fold 1\n",
            "SVM classification F1: 79.39698492462311% in fold 1\n",
            "-------------------------------------------------------\n",
            "-------------------------------------------------------\n"
          ]
        },
        {
          "output_type": "stream",
          "name": "stderr",
          "text": [
            "/usr/local/lib/python3.10/dist-packages/sklearn/svm/_base.py:1244: ConvergenceWarning: Liblinear failed to converge, increase the number of iterations.\n",
            "  warnings.warn(\n"
          ]
        },
        {
          "output_type": "stream",
          "name": "stdout",
          "text": [
            "SVM classification accuracy: 82.5% in fold 2\n",
            "SVM classification P: 82.82828282828282% in fold 2\n",
            "SVM classification R: 82.0% in fold 2\n",
            "SVM classification F1: 82.41206030150754% in fold 2\n",
            "-------------------------------------------------------\n",
            "-------------------------------------------------------\n"
          ]
        },
        {
          "output_type": "stream",
          "name": "stderr",
          "text": [
            "/usr/local/lib/python3.10/dist-packages/sklearn/svm/_base.py:1244: ConvergenceWarning: Liblinear failed to converge, increase the number of iterations.\n",
            "  warnings.warn(\n"
          ]
        },
        {
          "output_type": "stream",
          "name": "stdout",
          "text": [
            "SVM classification accuracy: 84.0% in fold 3\n",
            "SVM classification P: 83.33333333333334% in fold 3\n",
            "SVM classification R: 85.0% in fold 3\n",
            "SVM classification F1: 84.15841584158417% in fold 3\n",
            "-------------------------------------------------------\n",
            "-------------------------------------------------------\n",
            "SVM classification accuracy: 84.0% in fold 4\n",
            "SVM classification P: 86.17021276595744% in fold 4\n",
            "SVM classification R: 81.0% in fold 4\n",
            "SVM classification F1: 83.50515463917526% in fold 4\n",
            "-------------------------------------------------------\n",
            "-------------------------------------------------------\n"
          ]
        },
        {
          "output_type": "stream",
          "name": "stderr",
          "text": [
            "/usr/local/lib/python3.10/dist-packages/sklearn/svm/_base.py:1244: ConvergenceWarning: Liblinear failed to converge, increase the number of iterations.\n",
            "  warnings.warn(\n"
          ]
        },
        {
          "output_type": "stream",
          "name": "stdout",
          "text": [
            "SVM classification accuracy: 84.5% in fold 5\n",
            "SVM classification P: 84.15841584158416% in fold 5\n",
            "SVM classification R: 85.0% in fold 5\n",
            "SVM classification F1: 84.5771144278607% in fold 5\n",
            "-------------------------------------------------------\n",
            "-------------------------------------------------------\n"
          ]
        },
        {
          "output_type": "stream",
          "name": "stderr",
          "text": [
            "/usr/local/lib/python3.10/dist-packages/sklearn/svm/_base.py:1244: ConvergenceWarning: Liblinear failed to converge, increase the number of iterations.\n",
            "  warnings.warn(\n"
          ]
        },
        {
          "output_type": "stream",
          "name": "stdout",
          "text": [
            "SVM classification accuracy: 85.5% in fold 6\n",
            "SVM classification P: 85.14851485148515% in fold 6\n",
            "SVM classification R: 86.0% in fold 6\n",
            "SVM classification F1: 85.57213930348259% in fold 6\n",
            "-------------------------------------------------------\n",
            "-------------------------------------------------------\n"
          ]
        },
        {
          "output_type": "stream",
          "name": "stderr",
          "text": [
            "/usr/local/lib/python3.10/dist-packages/sklearn/svm/_base.py:1244: ConvergenceWarning: Liblinear failed to converge, increase the number of iterations.\n",
            "  warnings.warn(\n"
          ]
        },
        {
          "output_type": "stream",
          "name": "stdout",
          "text": [
            "SVM classification accuracy: 86.0% in fold 7\n",
            "SVM classification P: 84.61538461538461% in fold 7\n",
            "SVM classification R: 88.0% in fold 7\n",
            "SVM classification F1: 86.27450980392156% in fold 7\n",
            "-------------------------------------------------------\n",
            "-------------------------------------------------------\n"
          ]
        },
        {
          "output_type": "stream",
          "name": "stderr",
          "text": [
            "/usr/local/lib/python3.10/dist-packages/sklearn/svm/_base.py:1244: ConvergenceWarning: Liblinear failed to converge, increase the number of iterations.\n",
            "  warnings.warn(\n"
          ]
        },
        {
          "output_type": "stream",
          "name": "stdout",
          "text": [
            "SVM classification accuracy: 86.5% in fold 8\n",
            "SVM classification P: 86.13861386138613% in fold 8\n",
            "SVM classification R: 87.0% in fold 8\n",
            "SVM classification F1: 86.56716417910448% in fold 8\n",
            "-------------------------------------------------------\n",
            "-------------------------------------------------------\n",
            "SVM classification accuracy: 84.0% in fold 9\n",
            "SVM classification P: 87.77777777777777% in fold 9\n",
            "SVM classification R: 79.0% in fold 9\n",
            "SVM classification F1: 83.1578947368421% in fold 9\n",
            "-------------------------------------------------------\n",
            "Recap: Accuracy per fold: [0.82, 0.795, 0.825, 0.84, 0.84, 0.845, 0.855, 0.86, 0.865, 0.84]\n",
            "Recap: P per fold: [0.84, 0.79, 0.82, 0.85, 0.81, 0.85, 0.86, 0.88, 0.87, 0.79]\n",
            "Recap: R per fold: [0.8076923076923077, 0.797979797979798, 0.8282828282828283, 0.8333333333333334, 0.8617021276595744, 0.8415841584158416, 0.8514851485148515, 0.8461538461538461, 0.8613861386138614, 0.8777777777777778]\n",
            "Recap: F1 per fold: [0.8235294117647058, 0.7939698492462312, 0.8241206030150754, 0.8415841584158417, 0.8350515463917526, 0.845771144278607, 0.8557213930348259, 0.8627450980392156, 0.8656716417910448, 0.831578947368421]\n",
            "Average accuracy over 10 folds: 0.8385%\n",
            "Average P over 10 folds: 0.8407377464424022%\n",
            "Average R over 10 folds: 0.836%\n",
            "Average F1 over 10 folds: 0.8379743793345721%\n"
          ]
        }
      ],
      "source": [
        "def extract_back_of_words_2nd(reviews):\n",
        "    stemmer = PorterStemmer()\n",
        "    words=set()\n",
        "    for i in reviews:\n",
        "        for line in i:\n",
        "            for word,tag in line:\n",
        "                words.add(word.lower()+\"_\"+tag)\n",
        "    back_of_words={}\n",
        "    for i,word in enumerate(words):\n",
        "        back_of_words[word]=i\n",
        "    return back_of_words\n",
        "\n",
        "def make_histogram_2nd(reviews,back_of_words):\n",
        "    stemmer = PorterStemmer()\n",
        "    histogram=np.zeros((len(reviews),len(back_of_words)))\n",
        "    for index,r in enumerate(reviews):\n",
        "        for line in r:\n",
        "            for word,tag in line:\n",
        "                if word.lower()+\"_\"+tag in back_of_words.keys():\n",
        "                    histogram[index][back_of_words[word.lower()+\"_\"+tag]]+=1\n",
        "    return histogram\n",
        "accuracy_per_fold,P_per_fold,R_per_fold,F1_per_fold = k_fold_cross_validation_svm(reviews,extract_back_of_words_2nd,make_histogram_2nd, k=10)"
      ]
    },
    {
      "cell_type": "markdown",
      "metadata": {
        "id": "L0dt_oQupUNe"
      },
      "source": [
        "*Write your answer here.*"
      ]
    },
    {
      "cell_type": "markdown",
      "metadata": {
        "id": "Su-3w87eMW0w"
      },
      "source": [
        "#### (Q3.3) Discard all closed-class words from your data (keep only nouns, verbs, adjectives, and adverbs), and report performance. Does this help? Use cross-validation to evaluate the classifier and compare the results with (Q3.2). Are closed-class words detrimental to the classifier? Explain why this may be the case. (1pt)"
      ]
    },
    {
      "cell_type": "code",
      "execution_count": 27,
      "metadata": {
        "id": "CCUPlPozCYUX",
        "outputId": "d614a3f8-23f1-475c-f2d2-27a18d48b4ca",
        "colab": {
          "base_uri": "https://localhost:8080/"
        }
      },
      "outputs": [
        {
          "output_type": "stream",
          "name": "stdout",
          "text": [
            "Starting k-fold cross validation ......\n",
            "-------------------------------------------------------\n",
            "SVM classification accuracy: 80.0% in fold 0\n",
            "SVM classification P: 78.84615384615384% in fold 0\n",
            "SVM classification R: 82.0% in fold 0\n",
            "SVM classification F1: 80.3921568627451% in fold 0\n",
            "-------------------------------------------------------\n",
            "-------------------------------------------------------\n"
          ]
        },
        {
          "output_type": "stream",
          "name": "stderr",
          "text": [
            "/usr/local/lib/python3.10/dist-packages/sklearn/svm/_base.py:1244: ConvergenceWarning: Liblinear failed to converge, increase the number of iterations.\n",
            "  warnings.warn(\n"
          ]
        },
        {
          "output_type": "stream",
          "name": "stdout",
          "text": [
            "SVM classification accuracy: 81.0% in fold 1\n",
            "SVM classification P: 79.24528301886792% in fold 1\n",
            "SVM classification R: 84.0% in fold 1\n",
            "SVM classification F1: 81.55339805825243% in fold 1\n",
            "-------------------------------------------------------\n",
            "-------------------------------------------------------\n",
            "SVM classification accuracy: 82.5% in fold 2\n",
            "SVM classification P: 83.50515463917526% in fold 2\n",
            "SVM classification R: 81.0% in fold 2\n",
            "SVM classification F1: 82.23350253807106% in fold 2\n",
            "-------------------------------------------------------\n",
            "-------------------------------------------------------\n"
          ]
        },
        {
          "output_type": "stream",
          "name": "stderr",
          "text": [
            "/usr/local/lib/python3.10/dist-packages/sklearn/svm/_base.py:1244: ConvergenceWarning: Liblinear failed to converge, increase the number of iterations.\n",
            "  warnings.warn(\n"
          ]
        },
        {
          "output_type": "stream",
          "name": "stdout",
          "text": [
            "SVM classification accuracy: 86.5% in fold 3\n",
            "SVM classification P: 84.76190476190476% in fold 3\n",
            "SVM classification R: 89.0% in fold 3\n",
            "SVM classification F1: 86.82926829268293% in fold 3\n",
            "-------------------------------------------------------\n",
            "-------------------------------------------------------\n",
            "SVM classification accuracy: 85.0% in fold 4\n",
            "SVM classification P: 88.88888888888889% in fold 4\n",
            "SVM classification R: 80.0% in fold 4\n",
            "SVM classification F1: 84.21052631578948% in fold 4\n",
            "-------------------------------------------------------\n",
            "-------------------------------------------------------\n"
          ]
        },
        {
          "output_type": "stream",
          "name": "stderr",
          "text": [
            "/usr/local/lib/python3.10/dist-packages/sklearn/svm/_base.py:1244: ConvergenceWarning: Liblinear failed to converge, increase the number of iterations.\n",
            "  warnings.warn(\n"
          ]
        },
        {
          "output_type": "stream",
          "name": "stdout",
          "text": [
            "SVM classification accuracy: 84.0% in fold 5\n",
            "SVM classification P: 84.0% in fold 5\n",
            "SVM classification R: 84.0% in fold 5\n",
            "SVM classification F1: 83.99999999999999% in fold 5\n",
            "-------------------------------------------------------\n",
            "-------------------------------------------------------\n"
          ]
        },
        {
          "output_type": "stream",
          "name": "stderr",
          "text": [
            "/usr/local/lib/python3.10/dist-packages/sklearn/svm/_base.py:1244: ConvergenceWarning: Liblinear failed to converge, increase the number of iterations.\n",
            "  warnings.warn(\n"
          ]
        },
        {
          "output_type": "stream",
          "name": "stdout",
          "text": [
            "SVM classification accuracy: 87.5% in fold 6\n",
            "SVM classification P: 88.65979381443299% in fold 6\n",
            "SVM classification R: 86.0% in fold 6\n",
            "SVM classification F1: 87.30964467005077% in fold 6\n",
            "-------------------------------------------------------\n",
            "-------------------------------------------------------\n"
          ]
        },
        {
          "output_type": "stream",
          "name": "stderr",
          "text": [
            "/usr/local/lib/python3.10/dist-packages/sklearn/svm/_base.py:1244: ConvergenceWarning: Liblinear failed to converge, increase the number of iterations.\n",
            "  warnings.warn(\n"
          ]
        },
        {
          "output_type": "stream",
          "name": "stdout",
          "text": [
            "SVM classification accuracy: 83.5% in fold 7\n",
            "SVM classification P: 81.30841121495327% in fold 7\n",
            "SVM classification R: 87.0% in fold 7\n",
            "SVM classification F1: 84.05797101449274% in fold 7\n",
            "-------------------------------------------------------\n",
            "-------------------------------------------------------\n"
          ]
        },
        {
          "output_type": "stream",
          "name": "stderr",
          "text": [
            "/usr/local/lib/python3.10/dist-packages/sklearn/svm/_base.py:1244: ConvergenceWarning: Liblinear failed to converge, increase the number of iterations.\n",
            "  warnings.warn(\n"
          ]
        },
        {
          "output_type": "stream",
          "name": "stdout",
          "text": [
            "SVM classification accuracy: 84.0% in fold 8\n",
            "SVM classification P: 83.33333333333334% in fold 8\n",
            "SVM classification R: 85.0% in fold 8\n",
            "SVM classification F1: 84.15841584158417% in fold 8\n",
            "-------------------------------------------------------\n",
            "-------------------------------------------------------\n",
            "SVM classification accuracy: 81.0% in fold 9\n",
            "SVM classification P: 83.69565217391305% in fold 9\n",
            "SVM classification R: 77.0% in fold 9\n",
            "SVM classification F1: 80.20833333333334% in fold 9\n",
            "-------------------------------------------------------\n",
            "Recap: Accuracy per fold: [0.8, 0.81, 0.825, 0.865, 0.85, 0.84, 0.875, 0.835, 0.84, 0.81]\n",
            "Recap: P per fold: [0.82, 0.84, 0.81, 0.89, 0.8, 0.84, 0.86, 0.87, 0.85, 0.77]\n",
            "Recap: R per fold: [0.7884615384615384, 0.7924528301886793, 0.8350515463917526, 0.8476190476190476, 0.8888888888888888, 0.84, 0.8865979381443299, 0.8130841121495327, 0.8333333333333334, 0.8369565217391305]\n",
            "Recap: F1 per fold: [0.803921568627451, 0.8155339805825242, 0.8223350253807107, 0.8682926829268293, 0.8421052631578948, 0.8399999999999999, 0.8730964467005077, 0.8405797101449274, 0.8415841584158417, 0.8020833333333334]\n",
            "Average accuracy over 10 folds: 0.835%\n",
            "Average P over 10 folds: 0.8362445756916232%\n",
            "Average R over 10 folds: 0.835%\n",
            "Average F1 over 10 folds: 0.834953216927002%\n"
          ]
        }
      ],
      "source": [
        "def extract_back_of_words_3rd(reviews):\n",
        "    stemmer = PorterStemmer()\n",
        "    words=set()\n",
        "    for i in reviews:\n",
        "        for line in i:\n",
        "            for word,tag in line:\n",
        "                if \"N\" in tag or \"V\" in tag or \"A\" in tag or \"JJ\" in tag or \"RB\" in tag:\n",
        "                    words.add(word.lower()+\"_\"+tag)\n",
        "    back_of_words={}\n",
        "    for i,word in enumerate(words):\n",
        "        back_of_words[word]=i\n",
        "    return back_of_words\n",
        "\n",
        "def make_histogram_3rd(reviews,back_of_words):\n",
        "    stemmer = PorterStemmer()\n",
        "    histogram=np.zeros((len(reviews),len(back_of_words)))\n",
        "    for index,r in enumerate(reviews):\n",
        "        for line in r:\n",
        "            for word,tag in line:\n",
        "                if word.lower()+\"_\"+tag in back_of_words.keys():\n",
        "                    histogram[index][back_of_words[word.lower()+\"_\"+tag]]+=1\n",
        "    return histogram\n",
        "\n",
        "accuracy_per_fold,P_per_fold,R_per_fold,F1_per_fold = k_fold_cross_validation_svm(reviews,extract_back_of_words_3rd,make_histogram_3rd, k=10)\n"
      ]
    },
    {
      "cell_type": "markdown",
      "metadata": {
        "id": "YaxCVrs8pWSp"
      },
      "source": [
        "*Write your answer here.*"
      ]
    },
    {
      "cell_type": "markdown",
      "metadata": {
        "id": "nfwqOciAl2No"
      },
      "source": [
        "# (4) Discussion (max. 500 words). (5pts)\n",
        "\n",
        "> Based on your experiments, what are the effective features and techniques in sentiment analysis? What information do different features encode?\n",
        "Why is this important? What are the limitations of these features and techniques?\n",
        "\n"
      ]
    },
    {
      "cell_type": "markdown",
      "metadata": {
        "id": "ZYuse5WLmekZ"
      },
      "source": [
        "*Write your answer here in up to 500 words (-0.25pt for >50 extra words, -0.5 points for >100 extra words, ...)*.\n"
      ]
    },
    {
      "cell_type": "markdown",
      "metadata": {
        "id": "iwaKwfWQhRk_"
      },
      "source": [
        "# Submission\n"
      ]
    },
    {
      "cell_type": "code",
      "execution_count": null,
      "metadata": {
        "id": "aOUeaET5ijk-"
      },
      "outputs": [],
      "source": [
        "# Write your names and student numbers here:\n",
        "# Student 1 #12345\n",
        "# Student 2 #12345"
      ]
    },
    {
      "cell_type": "markdown",
      "metadata": {
        "id": "3A9K-H6Tii3X"
      },
      "source": [
        "**That's it!**\n",
        "\n",
        "- Check if you answered all questions fully and correctly.\n",
        "- Download your completed notebook using `File -> Download .ipynb`\n",
        "- Check if your answers are all included in the file you submit.\n",
        "- Submit your .ipynb file via *Canvas*. One submission per group."
      ]
    },
    {
      "cell_type": "code",
      "execution_count": null,
      "metadata": {
        "id": "YHslatYAKBrF"
      },
      "outputs": [],
      "source": []
    }
  ],
  "metadata": {
    "colab": {
      "provenance": []
    },
    "kernelspec": {
      "display_name": "Python 3",
      "name": "python3"
    },
    "language_info": {
      "codemirror_mode": {
        "name": "ipython",
        "version": 3
      },
      "file_extension": ".py",
      "mimetype": "text/x-python",
      "name": "python",
      "nbconvert_exporter": "python",
      "pygments_lexer": "ipython3",
      "version": "3.10.12"
    }
  },
  "nbformat": 4,
  "nbformat_minor": 0
}